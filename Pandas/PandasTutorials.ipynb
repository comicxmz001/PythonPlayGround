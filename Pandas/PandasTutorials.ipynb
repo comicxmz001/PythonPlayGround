{
 "cells": [
  {
   "cell_type": "code",
   "execution_count": 1,
   "metadata": {
    "collapsed": false
   },
   "outputs": [
    {
     "name": "stdout",
     "output_type": "stream",
     "text": [
      "                 Open       High        Low      Close    Volume  Adj Close\n",
      "Date                                                                       \n",
      "2005-01-03  51.020000  51.020000  49.869999  50.090000  16009200  37.884191\n",
      "2005-01-04  50.340000  50.599998  49.680000  49.750000  16718000  37.627042\n",
      "2005-01-05  49.830002  50.110001  49.450001  49.490002  12189100  37.430399\n",
      "2005-01-06  49.299999  50.189999  49.250000  50.119999  13098700  37.906880\n",
      "2005-01-07  50.119999  50.259998  49.520000  49.790001  11315300  37.657295\n"
     ]
    }
   ],
   "source": [
    "import pandas as pd\n",
    "import numpy as np\n",
    "import datetime\n",
    "import pandas.io.data as web\n",
    "import matplotlib.pyplot as plt\n",
    "from matplotlib import style\n",
    "%matplotlib inline  \n",
    "style.use('ggplot')\n",
    "\n",
    "# start and end datetime\n",
    "start = datetime.datetime(2005,1,1)\n",
    "end = datetime.datetime(2016,7,31)\n",
    "\n",
    "df = web.DataReader(\"XOM\", \"yahoo\", start, end)\n",
    "# df[\"Adj Close\"].plot()\n",
    "# df[\"High\"].plot()\n",
    "# plt.show()\n",
    "print df.head()"
   ]
  },
  {
   "cell_type": "code",
   "execution_count": null,
   "metadata": {
    "collapsed": false,
    "slideshow": {
     "slide_type": "-"
    }
   },
   "outputs": [],
   "source": [
    "# df.Open.tolist()\n",
    "#np.array(df[[\"High\",\"Low\"]])\n",
    "# print max(df[\"Adj Close\"])\n",
    "# df = pd.DataFrame(data=np.array(df[[\"High\",\"Low\"]]))"
   ]
  }
 ],
 "metadata": {
  "kernelspec": {
   "display_name": "Python 2",
   "language": "python",
   "name": "python2"
  },
  "language_info": {
   "codemirror_mode": {
    "name": "ipython",
    "version": 2
   },
   "file_extension": ".py",
   "mimetype": "text/x-python",
   "name": "python",
   "nbconvert_exporter": "python",
   "pygments_lexer": "ipython2",
   "version": "2.7.12"
  }
 },
 "nbformat": 4,
 "nbformat_minor": 0
}
